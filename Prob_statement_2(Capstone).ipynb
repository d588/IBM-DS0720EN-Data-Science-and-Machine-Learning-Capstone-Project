{
  "nbformat": 4,
  "nbformat_minor": 0,
  "metadata": {
    "colab": {
      "name": "Prob_statement_2(Capstone).ipynb",
      "provenance": []
    },
    "kernelspec": {
      "name": "python3",
      "display_name": "Python 3"
    }
  },
  "cells": [
    {
      "cell_type": "code",
      "metadata": {
        "id": "J4OLueTpIGx8",
        "colab_type": "code",
        "colab": {
          "base_uri": "https://localhost:8080/",
          "height": 121
        },
        "outputId": "ed8ab7b4-43d1-466e-ea18-ae29baa3683d"
      },
      "source": [
        "from google.colab import drive\n",
        "drive.mount('/content/drive/')"
      ],
      "execution_count": 1,
      "outputs": [
        {
          "output_type": "stream",
          "text": [
            "Go to this URL in a browser: https://accounts.google.com/o/oauth2/auth?client_id=947318989803-6bn6qk8qdgf4n4g3pfee6491hc0brc4i.apps.googleusercontent.com&redirect_uri=urn%3aietf%3awg%3aoauth%3a2.0%3aoob&response_type=code&scope=email%20https%3a%2f%2fwww.googleapis.com%2fauth%2fdocs.test%20https%3a%2f%2fwww.googleapis.com%2fauth%2fdrive%20https%3a%2f%2fwww.googleapis.com%2fauth%2fdrive.photos.readonly%20https%3a%2f%2fwww.googleapis.com%2fauth%2fpeopleapi.readonly\n",
            "\n",
            "Enter your authorization code:\n",
            "··········\n",
            "Mounted at /content/drive/\n"
          ],
          "name": "stdout"
        }
      ]
    },
    {
      "cell_type": "code",
      "metadata": {
        "id": "oACUQM3qIvxw",
        "colab_type": "code",
        "colab": {
          "base_uri": "https://localhost:8080/",
          "height": 70
        },
        "outputId": "66fe4930-4dbe-4da6-ef5b-584bbdb1c2b7"
      },
      "source": [
        "import numpy as np\n",
        "import pandas as pd\n",
        "import matplotlib.pyplot as plt\n",
        "import seaborn as sns\n",
        "\n",
        "%matplotlib inline\n",
        "sns.set(font_scale=1.25)\n",
        "\n",
        "pd.set_option(\"display.max_rows\",100)\n",
        "pd.set_option(\"display.max_columns\",100)"
      ],
      "execution_count": 2,
      "outputs": [
        {
          "output_type": "stream",
          "text": [
            "/usr/local/lib/python3.6/dist-packages/statsmodels/tools/_testing.py:19: FutureWarning: pandas.util.testing is deprecated. Use the functions in the public API at pandas.testing instead.\n",
            "  import pandas.util.testing as tm\n"
          ],
          "name": "stderr"
        }
      ]
    },
    {
      "cell_type": "code",
      "metadata": {
        "id": "kd0afIwYIz39",
        "colab_type": "code",
        "colab": {
          "base_uri": "https://localhost:8080/",
          "height": 299
        },
        "outputId": "cba963c5-d4d7-437a-a883-5632a377df48"
      },
      "source": [
        "df = pd.read_csv(\"/content/drive/My Drive/Colab Notebooks/Data set for GTechnologies capstone project/fhrw-4uyv.csv\", parse_dates=True, infer_datetime_format=True, low_memory=False)\n",
        "df.head()"
      ],
      "execution_count": 3,
      "outputs": [
        {
          "output_type": "execute_result",
          "data": {
            "text/html": [
              "<div>\n",
              "<style scoped>\n",
              "    .dataframe tbody tr th:only-of-type {\n",
              "        vertical-align: middle;\n",
              "    }\n",
              "\n",
              "    .dataframe tbody tr th {\n",
              "        vertical-align: top;\n",
              "    }\n",
              "\n",
              "    .dataframe thead th {\n",
              "        text-align: right;\n",
              "    }\n",
              "</style>\n",
              "<table border=\"1\" class=\"dataframe\">\n",
              "  <thead>\n",
              "    <tr style=\"text-align: right;\">\n",
              "      <th></th>\n",
              "      <th>created_date</th>\n",
              "      <th>unique_key</th>\n",
              "      <th>complaint_type</th>\n",
              "      <th>incident_zip</th>\n",
              "      <th>incident_address</th>\n",
              "      <th>street_name</th>\n",
              "      <th>address_type</th>\n",
              "      <th>city</th>\n",
              "      <th>resolution_description</th>\n",
              "      <th>borough</th>\n",
              "      <th>latitude</th>\n",
              "      <th>longitude</th>\n",
              "      <th>closed_date</th>\n",
              "      <th>location_type</th>\n",
              "      <th>status</th>\n",
              "    </tr>\n",
              "  </thead>\n",
              "  <tbody>\n",
              "    <tr>\n",
              "      <th>0</th>\n",
              "      <td>2020-07-30T10:32:37.000</td>\n",
              "      <td>47039324</td>\n",
              "      <td>PAINT/PLASTER</td>\n",
              "      <td>11377.0</td>\n",
              "      <td>37-80 64 STREET</td>\n",
              "      <td>64 STREET</td>\n",
              "      <td>ADDRESS</td>\n",
              "      <td>Woodside</td>\n",
              "      <td>The following complaint conditions are still o...</td>\n",
              "      <td>QUEENS</td>\n",
              "      <td>40.748268</td>\n",
              "      <td>-73.899022</td>\n",
              "      <td>NaN</td>\n",
              "      <td>RESIDENTIAL BUILDING</td>\n",
              "      <td>Open</td>\n",
              "    </tr>\n",
              "    <tr>\n",
              "      <th>1</th>\n",
              "      <td>2020-07-30T03:58:23.000</td>\n",
              "      <td>47039314</td>\n",
              "      <td>PLUMBING</td>\n",
              "      <td>10009.0</td>\n",
              "      <td>1 HAVEN PLAZA</td>\n",
              "      <td>HAVEN PLAZA</td>\n",
              "      <td>ADDRESS</td>\n",
              "      <td>NEW YORK</td>\n",
              "      <td>The following complaint conditions are still o...</td>\n",
              "      <td>MANHATTAN</td>\n",
              "      <td>40.727016</td>\n",
              "      <td>-73.976440</td>\n",
              "      <td>NaN</td>\n",
              "      <td>RESIDENTIAL BUILDING</td>\n",
              "      <td>Open</td>\n",
              "    </tr>\n",
              "    <tr>\n",
              "      <th>2</th>\n",
              "      <td>2020-07-30T13:39:18.000</td>\n",
              "      <td>47039297</td>\n",
              "      <td>FLOORING/STAIRS</td>\n",
              "      <td>10027.0</td>\n",
              "      <td>244 WEST  122 STREET</td>\n",
              "      <td>WEST  122 STREET</td>\n",
              "      <td>ADDRESS</td>\n",
              "      <td>NEW YORK</td>\n",
              "      <td>The following complaint conditions are still o...</td>\n",
              "      <td>MANHATTAN</td>\n",
              "      <td>40.807607</td>\n",
              "      <td>-73.951111</td>\n",
              "      <td>NaN</td>\n",
              "      <td>RESIDENTIAL BUILDING</td>\n",
              "      <td>Open</td>\n",
              "    </tr>\n",
              "    <tr>\n",
              "      <th>3</th>\n",
              "      <td>2020-07-30T16:00:19.000</td>\n",
              "      <td>47035400</td>\n",
              "      <td>GENERAL</td>\n",
              "      <td>11428.0</td>\n",
              "      <td>94-19 210 STREET</td>\n",
              "      <td>210 STREET</td>\n",
              "      <td>ADDRESS</td>\n",
              "      <td>Queens Village</td>\n",
              "      <td>The following complaint conditions are still o...</td>\n",
              "      <td>QUEENS</td>\n",
              "      <td>40.715435</td>\n",
              "      <td>-73.750837</td>\n",
              "      <td>NaN</td>\n",
              "      <td>RESIDENTIAL BUILDING</td>\n",
              "      <td>Open</td>\n",
              "    </tr>\n",
              "    <tr>\n",
              "      <th>4</th>\n",
              "      <td>2020-07-30T12:15:18.000</td>\n",
              "      <td>47036744</td>\n",
              "      <td>UNSANITARY CONDITION</td>\n",
              "      <td>10031.0</td>\n",
              "      <td>557 WEST  148 STREET</td>\n",
              "      <td>WEST  148 STREET</td>\n",
              "      <td>ADDRESS</td>\n",
              "      <td>NEW YORK</td>\n",
              "      <td>The following complaint conditions are still o...</td>\n",
              "      <td>MANHATTAN</td>\n",
              "      <td>40.827796</td>\n",
              "      <td>-73.947707</td>\n",
              "      <td>NaN</td>\n",
              "      <td>RESIDENTIAL BUILDING</td>\n",
              "      <td>Open</td>\n",
              "    </tr>\n",
              "  </tbody>\n",
              "</table>\n",
              "</div>"
            ],
            "text/plain": [
              "              created_date  unique_key        complaint_type  incident_zip  \\\n",
              "0  2020-07-30T10:32:37.000    47039324         PAINT/PLASTER       11377.0   \n",
              "1  2020-07-30T03:58:23.000    47039314              PLUMBING       10009.0   \n",
              "2  2020-07-30T13:39:18.000    47039297       FLOORING/STAIRS       10027.0   \n",
              "3  2020-07-30T16:00:19.000    47035400               GENERAL       11428.0   \n",
              "4  2020-07-30T12:15:18.000    47036744  UNSANITARY CONDITION       10031.0   \n",
              "\n",
              "       incident_address       street_name address_type            city  \\\n",
              "0       37-80 64 STREET         64 STREET      ADDRESS        Woodside   \n",
              "1         1 HAVEN PLAZA       HAVEN PLAZA      ADDRESS        NEW YORK   \n",
              "2  244 WEST  122 STREET  WEST  122 STREET      ADDRESS        NEW YORK   \n",
              "3      94-19 210 STREET        210 STREET      ADDRESS  Queens Village   \n",
              "4  557 WEST  148 STREET  WEST  148 STREET      ADDRESS        NEW YORK   \n",
              "\n",
              "                              resolution_description    borough   latitude  \\\n",
              "0  The following complaint conditions are still o...     QUEENS  40.748268   \n",
              "1  The following complaint conditions are still o...  MANHATTAN  40.727016   \n",
              "2  The following complaint conditions are still o...  MANHATTAN  40.807607   \n",
              "3  The following complaint conditions are still o...     QUEENS  40.715435   \n",
              "4  The following complaint conditions are still o...  MANHATTAN  40.827796   \n",
              "\n",
              "   longitude closed_date         location_type status  \n",
              "0 -73.899022         NaN  RESIDENTIAL BUILDING   Open  \n",
              "1 -73.976440         NaN  RESIDENTIAL BUILDING   Open  \n",
              "2 -73.951111         NaN  RESIDENTIAL BUILDING   Open  \n",
              "3 -73.750837         NaN  RESIDENTIAL BUILDING   Open  \n",
              "4 -73.947707         NaN  RESIDENTIAL BUILDING   Open  "
            ]
          },
          "metadata": {
            "tags": []
          },
          "execution_count": 3
        }
      ]
    },
    {
      "cell_type": "code",
      "metadata": {
        "id": "XUbgcw97JYOs",
        "colab_type": "code",
        "colab": {
          "base_uri": "https://localhost:8080/",
          "height": 386
        },
        "outputId": "350b5603-f97f-419b-a29b-dc022f332941"
      },
      "source": [
        "df.info()"
      ],
      "execution_count": 4,
      "outputs": [
        {
          "output_type": "stream",
          "text": [
            "<class 'pandas.core.frame.DataFrame'>\n",
            "RangeIndex: 6177170 entries, 0 to 6177169\n",
            "Data columns (total 15 columns):\n",
            " #   Column                  Dtype  \n",
            "---  ------                  -----  \n",
            " 0   created_date            object \n",
            " 1   unique_key              int64  \n",
            " 2   complaint_type          object \n",
            " 3   incident_zip            float64\n",
            " 4   incident_address        object \n",
            " 5   street_name             object \n",
            " 6   address_type            object \n",
            " 7   city                    object \n",
            " 8   resolution_description  object \n",
            " 9   borough                 object \n",
            " 10  latitude                float64\n",
            " 11  longitude               float64\n",
            " 12  closed_date             object \n",
            " 13  location_type           object \n",
            " 14  status                  object \n",
            "dtypes: float64(3), int64(1), object(11)\n",
            "memory usage: 706.9+ MB\n"
          ],
          "name": "stdout"
        }
      ]
    },
    {
      "cell_type": "code",
      "metadata": {
        "id": "mUsWIVvSJcde",
        "colab_type": "code",
        "colab": {
          "base_uri": "https://localhost:8080/",
          "height": 316
        },
        "outputId": "463389d4-cf6a-4cac-8b3e-4bcd773b444b"
      },
      "source": [
        "# Create a dataframe containing only Heat/Hot Water\n",
        "df2 = df[df['complaint_type'] == \"HEAT/HOT WATER\"]\n",
        "df2.head()"
      ],
      "execution_count": 5,
      "outputs": [
        {
          "output_type": "execute_result",
          "data": {
            "text/html": [
              "<div>\n",
              "<style scoped>\n",
              "    .dataframe tbody tr th:only-of-type {\n",
              "        vertical-align: middle;\n",
              "    }\n",
              "\n",
              "    .dataframe tbody tr th {\n",
              "        vertical-align: top;\n",
              "    }\n",
              "\n",
              "    .dataframe thead th {\n",
              "        text-align: right;\n",
              "    }\n",
              "</style>\n",
              "<table border=\"1\" class=\"dataframe\">\n",
              "  <thead>\n",
              "    <tr style=\"text-align: right;\">\n",
              "      <th></th>\n",
              "      <th>created_date</th>\n",
              "      <th>unique_key</th>\n",
              "      <th>complaint_type</th>\n",
              "      <th>incident_zip</th>\n",
              "      <th>incident_address</th>\n",
              "      <th>street_name</th>\n",
              "      <th>address_type</th>\n",
              "      <th>city</th>\n",
              "      <th>resolution_description</th>\n",
              "      <th>borough</th>\n",
              "      <th>latitude</th>\n",
              "      <th>longitude</th>\n",
              "      <th>closed_date</th>\n",
              "      <th>location_type</th>\n",
              "      <th>status</th>\n",
              "    </tr>\n",
              "  </thead>\n",
              "  <tbody>\n",
              "    <tr>\n",
              "      <th>32</th>\n",
              "      <td>2020-07-30T18:29:59.000</td>\n",
              "      <td>47031786</td>\n",
              "      <td>HEAT/HOT WATER</td>\n",
              "      <td>11232.0</td>\n",
              "      <td>725 4 AVENUE</td>\n",
              "      <td>4 AVENUE</td>\n",
              "      <td>ADDRESS</td>\n",
              "      <td>BROOKLYN</td>\n",
              "      <td>The following complaint conditions are still o...</td>\n",
              "      <td>BROOKLYN</td>\n",
              "      <td>40.661226</td>\n",
              "      <td>-73.997217</td>\n",
              "      <td>NaN</td>\n",
              "      <td>RESIDENTIAL BUILDING</td>\n",
              "      <td>Open</td>\n",
              "    </tr>\n",
              "    <tr>\n",
              "      <th>33</th>\n",
              "      <td>2020-07-30T14:13:39.000</td>\n",
              "      <td>47034118</td>\n",
              "      <td>HEAT/HOT WATER</td>\n",
              "      <td>10009.0</td>\n",
              "      <td>542 EAST   14 STREET</td>\n",
              "      <td>EAST   14 STREET</td>\n",
              "      <td>ADDRESS</td>\n",
              "      <td>NEW YORK</td>\n",
              "      <td>The following complaint conditions are still o...</td>\n",
              "      <td>MANHATTAN</td>\n",
              "      <td>40.729750</td>\n",
              "      <td>-73.978770</td>\n",
              "      <td>NaN</td>\n",
              "      <td>RESIDENTIAL BUILDING</td>\n",
              "      <td>Open</td>\n",
              "    </tr>\n",
              "    <tr>\n",
              "      <th>57</th>\n",
              "      <td>2020-07-30T12:14:55.000</td>\n",
              "      <td>47032987</td>\n",
              "      <td>HEAT/HOT WATER</td>\n",
              "      <td>11206.0</td>\n",
              "      <td>19 PARK STREET</td>\n",
              "      <td>PARK STREET</td>\n",
              "      <td>ADDRESS</td>\n",
              "      <td>BROOKLYN</td>\n",
              "      <td>The following complaint conditions are still o...</td>\n",
              "      <td>BROOKLYN</td>\n",
              "      <td>40.699571</td>\n",
              "      <td>-73.938399</td>\n",
              "      <td>NaN</td>\n",
              "      <td>RESIDENTIAL BUILDING</td>\n",
              "      <td>Open</td>\n",
              "    </tr>\n",
              "    <tr>\n",
              "      <th>61</th>\n",
              "      <td>2020-07-30T10:28:20.000</td>\n",
              "      <td>47032913</td>\n",
              "      <td>HEAT/HOT WATER</td>\n",
              "      <td>10457.0</td>\n",
              "      <td>1515 SELWYN AVENUE</td>\n",
              "      <td>SELWYN AVENUE</td>\n",
              "      <td>ADDRESS</td>\n",
              "      <td>BRONX</td>\n",
              "      <td>The following complaint conditions are still o...</td>\n",
              "      <td>BRONX</td>\n",
              "      <td>40.840838</td>\n",
              "      <td>-73.910309</td>\n",
              "      <td>NaN</td>\n",
              "      <td>RESIDENTIAL BUILDING</td>\n",
              "      <td>Open</td>\n",
              "    </tr>\n",
              "    <tr>\n",
              "      <th>102</th>\n",
              "      <td>2020-07-30T21:44:31.000</td>\n",
              "      <td>47037999</td>\n",
              "      <td>HEAT/HOT WATER</td>\n",
              "      <td>10027.0</td>\n",
              "      <td>436 ST NICHOLAS AVENUE</td>\n",
              "      <td>ST NICHOLAS AVENUE</td>\n",
              "      <td>ADDRESS</td>\n",
              "      <td>NEW YORK</td>\n",
              "      <td>The complaint you filed is a duplicate of a co...</td>\n",
              "      <td>MANHATTAN</td>\n",
              "      <td>40.814757</td>\n",
              "      <td>-73.949166</td>\n",
              "      <td>NaN</td>\n",
              "      <td>RESIDENTIAL BUILDING</td>\n",
              "      <td>Open</td>\n",
              "    </tr>\n",
              "  </tbody>\n",
              "</table>\n",
              "</div>"
            ],
            "text/plain": [
              "                created_date  unique_key  complaint_type  incident_zip  \\\n",
              "32   2020-07-30T18:29:59.000    47031786  HEAT/HOT WATER       11232.0   \n",
              "33   2020-07-30T14:13:39.000    47034118  HEAT/HOT WATER       10009.0   \n",
              "57   2020-07-30T12:14:55.000    47032987  HEAT/HOT WATER       11206.0   \n",
              "61   2020-07-30T10:28:20.000    47032913  HEAT/HOT WATER       10457.0   \n",
              "102  2020-07-30T21:44:31.000    47037999  HEAT/HOT WATER       10027.0   \n",
              "\n",
              "           incident_address         street_name address_type      city  \\\n",
              "32             725 4 AVENUE            4 AVENUE      ADDRESS  BROOKLYN   \n",
              "33     542 EAST   14 STREET    EAST   14 STREET      ADDRESS  NEW YORK   \n",
              "57           19 PARK STREET         PARK STREET      ADDRESS  BROOKLYN   \n",
              "61       1515 SELWYN AVENUE       SELWYN AVENUE      ADDRESS     BRONX   \n",
              "102  436 ST NICHOLAS AVENUE  ST NICHOLAS AVENUE      ADDRESS  NEW YORK   \n",
              "\n",
              "                                resolution_description    borough   latitude  \\\n",
              "32   The following complaint conditions are still o...   BROOKLYN  40.661226   \n",
              "33   The following complaint conditions are still o...  MANHATTAN  40.729750   \n",
              "57   The following complaint conditions are still o...   BROOKLYN  40.699571   \n",
              "61   The following complaint conditions are still o...      BRONX  40.840838   \n",
              "102  The complaint you filed is a duplicate of a co...  MANHATTAN  40.814757   \n",
              "\n",
              "     longitude closed_date         location_type status  \n",
              "32  -73.997217         NaN  RESIDENTIAL BUILDING   Open  \n",
              "33  -73.978770         NaN  RESIDENTIAL BUILDING   Open  \n",
              "57  -73.938399         NaN  RESIDENTIAL BUILDING   Open  \n",
              "61  -73.910309         NaN  RESIDENTIAL BUILDING   Open  \n",
              "102 -73.949166         NaN  RESIDENTIAL BUILDING   Open  "
            ]
          },
          "metadata": {
            "tags": []
          },
          "execution_count": 5
        }
      ]
    },
    {
      "cell_type": "code",
      "metadata": {
        "id": "jdzQfwL9JnjY",
        "colab_type": "code",
        "colab": {
          "base_uri": "https://localhost:8080/",
          "height": 386
        },
        "outputId": "8b150db6-e4bd-4af9-aae2-0e605d5bb979"
      },
      "source": [
        "df2.info()"
      ],
      "execution_count": 6,
      "outputs": [
        {
          "output_type": "stream",
          "text": [
            "<class 'pandas.core.frame.DataFrame'>\n",
            "Int64Index: 1319540 entries, 32 to 6177168\n",
            "Data columns (total 15 columns):\n",
            " #   Column                  Non-Null Count    Dtype  \n",
            "---  ------                  --------------    -----  \n",
            " 0   created_date            1319540 non-null  object \n",
            " 1   unique_key              1319540 non-null  int64  \n",
            " 2   complaint_type          1319540 non-null  object \n",
            " 3   incident_zip            1312414 non-null  float64\n",
            " 4   incident_address        1319540 non-null  object \n",
            " 5   street_name             1319540 non-null  object \n",
            " 6   address_type            1312752 non-null  object \n",
            " 7   city                    1312557 non-null  object \n",
            " 8   resolution_description  1319467 non-null  object \n",
            " 9   borough                 1319540 non-null  object \n",
            " 10  latitude                1254168 non-null  float64\n",
            " 11  longitude               1254168 non-null  float64\n",
            " 12  closed_date             1315824 non-null  object \n",
            " 13  location_type           1319540 non-null  object \n",
            " 14  status                  1319540 non-null  object \n",
            "dtypes: float64(3), int64(1), object(11)\n",
            "memory usage: 161.1+ MB\n"
          ],
          "name": "stdout"
        }
      ]
    },
    {
      "cell_type": "code",
      "metadata": {
        "id": "t-mGblk_JraI",
        "colab_type": "code",
        "colab": {
          "base_uri": "https://localhost:8080/",
          "height": 34
        },
        "outputId": "02124454-3fbd-484b-d7e2-a3747ddb7495"
      },
      "source": [
        "df2.shape"
      ],
      "execution_count": 7,
      "outputs": [
        {
          "output_type": "execute_result",
          "data": {
            "text/plain": [
              "(1319540, 15)"
            ]
          },
          "metadata": {
            "tags": []
          },
          "execution_count": 7
        }
      ]
    },
    {
      "cell_type": "code",
      "metadata": {
        "id": "E0W1geDNJu6H",
        "colab_type": "code",
        "colab": {
          "base_uri": "https://localhost:8080/",
          "height": 453
        },
        "outputId": "337151c5-9f7e-40f5-9ebc-b7bb210b32ee"
      },
      "source": [
        "sns.countplot(x='location_type',data=df2)\n",
        "plt.xticks(rotation=90)\n",
        "plt.show()"
      ],
      "execution_count": 8,
      "outputs": [
        {
          "output_type": "display_data",
          "data": {
            "image/png": "[encoded data removed]",
            "text/plain": [
              "<Figure size 432x288 with 1 Axes>"
            ]
          },
          "metadata": {
            "tags": []
          }
        }
      ]
    },
    {
      "cell_type": "code",
      "metadata": {
        "id": "CyVHx2JQJzM6",
        "colab_type": "code",
        "colab": {
          "base_uri": "https://localhost:8080/",
          "height": 611
        },
        "outputId": "8e75cf35-a915-4408-d4f1-6dbe3bef7aa7"
      },
      "source": [
        "plt.figure(figsize=(20,10))\n",
        "sns.countplot(x='incident_zip',data=df2)\n",
        "plt.xticks(rotation=90)\n",
        "plt.show()"
      ],
      "execution_count": 9,
      "outputs": [
        {
          "output_type": "display_data",
          "data": {
            "image/png": "[encoded data removed]",
            "text/plain": [
              "<Figure size 1440x720 with 1 Axes>"
            ]
          },
          "metadata": {
            "tags": []
          }
        }
      ]
    },
    {
      "cell_type": "code",
      "metadata": {
        "id": "4y8O8rL3J5hU",
        "colab_type": "code",
        "colab": {
          "base_uri": "https://localhost:8080/",
          "height": 218
        },
        "outputId": "40f9137a-ccab-457e-c91b-12fa6e757bb4"
      },
      "source": [
        "df2['incident_zip'].value_counts()"
      ],
      "execution_count": 10,
      "outputs": [
        {
          "output_type": "execute_result",
          "data": {
            "text/plain": [
              "11226.0    43644\n",
              "10458.0    40533\n",
              "10467.0    39812\n",
              "10468.0    36031\n",
              "10453.0    35679\n",
              "           ...  \n",
              "10103.0        1\n",
              "10112.0        1\n",
              "10045.0        1\n",
              "10129.0        1\n",
              "12345.0        1\n",
              "Name: incident_zip, Length: 191, dtype: int64"
            ]
          },
          "metadata": {
            "tags": []
          },
          "execution_count": 10
        }
      ]
    },
    {
      "cell_type": "code",
      "metadata": {
        "id": "wHcjTv9GJ_LY",
        "colab_type": "code",
        "colab": {
          "base_uri": "https://localhost:8080/",
          "height": 1000
        },
        "outputId": "cda1d05d-92ce-4eb7-fa6a-125d8de267e4"
      },
      "source": [
        "df2[df2['incident_zip']==11226.0]['street_name'].value_counts()"
      ],
      "execution_count": 15,
      "outputs": [
        {
          "output_type": "execute_result",
          "data": {
            "text/plain": [
              "LINDEN BOULEVARD    4703\n",
              "OCEAN AVENUE        3621\n",
              "EAST 19 STREET      2643\n",
              "EAST 21 STREET      2630\n",
              "BEDFORD AVENUE      2439\n",
              "ALBEMARLE ROAD      2105\n",
              "NEWKIRK AVENUE      2018\n",
              "LENOX ROAD          1996\n",
              "EAST 17 STREET      1742\n",
              "NOSTRAND AVENUE     1626\n",
              "ROGERS AVENUE       1494\n",
              "EAST 18 STREET      1485\n",
              "BEVERLY ROAD        1280\n",
              "CLARKSON AVENUE     1195\n",
              "CORTELYOU ROAD      1157\n",
              "PARKSIDE AVENUE     1082\n",
              "CATON AVENUE         797\n",
              "ERASMUS STREET       727\n",
              "FLATBUSH AVENUE      645\n",
              "EAST 22 STREET       629\n",
              "WOODRUFF AVENUE      594\n",
              "DORCHESTER ROAD      594\n",
              "MARTENSE STREET      581\n",
              "AVENUE D             509\n",
              "CLARENDON ROAD       476\n",
              "CHURCH AVENUE        447\n",
              "EAST 29 STREET       418\n",
              "CROOKE AVENUE        402\n",
              "ST PAULS PLACE       388\n",
              "EAST 23 STREET       383\n",
              "ST PAULS COURT       349\n",
              "EAST 31 STREET       332\n",
              "EAST 16 STREET       305\n",
              "EAST 26 STREET       219\n",
              "MARLBOROUGH ROAD     219\n",
              "PARADE PLACE         199\n",
              "DITMAS AVENUE        177\n",
              "REGENT PLACE         152\n",
              "EAST 25 STREET       139\n",
              "TILDEN AVENUE        132\n",
              "EAST 28 STREET       125\n",
              "TENNIS COURT         119\n",
              "SNYDER AVENUE         92\n",
              "RUGBY ROAD            53\n",
              "EAST 32 STREET        44\n",
              "LOTT STREET           35\n",
              "BUCKINGHAM ROAD       34\n",
              "VERONICA PLACE        31\n",
              "OAKLAND PLACE         27\n",
              "BEVERLEY ROAD         20\n",
              "FAIRVIEW PLACE        11\n",
              "ALBERMARLE ROAD        9\n",
              "DURYEA PLACE           4\n",
              "MARTENSE COURT         2\n",
              "VANDERVEER PLACE       1\n",
              "EAST   21 STREET       1\n",
              "EAST 14 STREET         1\n",
              "EAST 15 STREET         1\n",
              "EAST   18 STREET       1\n",
              "EAST   31 STREET       1\n",
              "STEPHENS COURT         1\n",
              "RALEIGH PLACE          1\n",
              "EAST   19 STREET       1\n",
              "Name: street_name, dtype: int64"
            ]
          },
          "metadata": {
            "tags": []
          },
          "execution_count": 15
        }
      ]
    },
    {
      "cell_type": "code",
      "metadata": {
        "id": "lnp9z8JbKAp4",
        "colab_type": "code",
        "colab": {
          "base_uri": "https://localhost:8080/",
          "height": 384
        },
        "outputId": "681b936c-3166-4f4b-a006-277a8be4548f"
      },
      "source": [
        "sns.countplot(x='borough',data=df2)\n",
        "plt.xticks(rotation=90)\n",
        "plt.show()"
      ],
      "execution_count": 16,
      "outputs": [
        {
          "output_type": "display_data",
          "data": {
            "image/png": "[encoded data removed]",
            "text/plain": [
              "<Figure size 432x288 with 1 Axes>"
            ]
          },
          "metadata": {
            "tags": []
          }
        }
      ]
    },
    {
      "cell_type": "code",
      "metadata": {
        "id": "SMgmZMjVKERY",
        "colab_type": "code",
        "colab": {
          "base_uri": "https://localhost:8080/",
          "height": 707
        },
        "outputId": "cefe0604-dca2-45d7-df33-a95533f74afe"
      },
      "source": [
        "df3 = df2[df2['street_name'] == 'TIEBOUT AVENUE']\n",
        "df3"
      ],
      "execution_count": 14,
      "outputs": [
        {
          "output_type": "execute_result",
          "data": {
            "text/html": [
              "<div>\n",
              "<style scoped>\n",
              "    .dataframe tbody tr th:only-of-type {\n",
              "        vertical-align: middle;\n",
              "    }\n",
              "\n",
              "    .dataframe tbody tr th {\n",
              "        vertical-align: top;\n",
              "    }\n",
              "\n",
              "    .dataframe thead th {\n",
              "        text-align: right;\n",
              "    }\n",
              "</style>\n",
              "<table border=\"1\" class=\"dataframe\">\n",
              "  <thead>\n",
              "    <tr style=\"text-align: right;\">\n",
              "      <th></th>\n",
              "      <th>created_date</th>\n",
              "      <th>unique_key</th>\n",
              "      <th>complaint_type</th>\n",
              "      <th>incident_zip</th>\n",
              "      <th>incident_address</th>\n",
              "      <th>street_name</th>\n",
              "      <th>address_type</th>\n",
              "      <th>city</th>\n",
              "      <th>resolution_description</th>\n",
              "      <th>borough</th>\n",
              "      <th>latitude</th>\n",
              "      <th>longitude</th>\n",
              "      <th>closed_date</th>\n",
              "      <th>location_type</th>\n",
              "      <th>status</th>\n",
              "    </tr>\n",
              "  </thead>\n",
              "  <tbody>\n",
              "    <tr>\n",
              "      <th>3026</th>\n",
              "      <td>2020-07-28T17:03:03.000</td>\n",
              "      <td>47012921</td>\n",
              "      <td>HEAT/HOT WATER</td>\n",
              "      <td>10458.0</td>\n",
              "      <td>2454 TIEBOUT AVENUE</td>\n",
              "      <td>TIEBOUT AVENUE</td>\n",
              "      <td>ADDRESS</td>\n",
              "      <td>BRONX</td>\n",
              "      <td>The Department of Housing Preservation and Dev...</td>\n",
              "      <td>BRONX</td>\n",
              "      <td>40.860568</td>\n",
              "      <td>-73.895439</td>\n",
              "      <td>2020-07-29T10:36:37.000</td>\n",
              "      <td>RESIDENTIAL BUILDING</td>\n",
              "      <td>Closed</td>\n",
              "    </tr>\n",
              "    <tr>\n",
              "      <th>3453</th>\n",
              "      <td>2020-07-28T12:20:40.000</td>\n",
              "      <td>47008753</td>\n",
              "      <td>HEAT/HOT WATER</td>\n",
              "      <td>10458.0</td>\n",
              "      <td>2454 TIEBOUT AVENUE</td>\n",
              "      <td>TIEBOUT AVENUE</td>\n",
              "      <td>ADDRESS</td>\n",
              "      <td>BRONX</td>\n",
              "      <td>The Department of Housing Preservation and Dev...</td>\n",
              "      <td>BRONX</td>\n",
              "      <td>40.860568</td>\n",
              "      <td>-73.895439</td>\n",
              "      <td>2020-07-29T10:36:37.000</td>\n",
              "      <td>RESIDENTIAL BUILDING</td>\n",
              "      <td>Closed</td>\n",
              "    </tr>\n",
              "    <tr>\n",
              "      <th>8702</th>\n",
              "      <td>2020-07-23T10:52:27.000</td>\n",
              "      <td>46952366</td>\n",
              "      <td>HEAT/HOT WATER</td>\n",
              "      <td>10457.0</td>\n",
              "      <td>2240 TIEBOUT AVENUE</td>\n",
              "      <td>TIEBOUT AVENUE</td>\n",
              "      <td>ADDRESS</td>\n",
              "      <td>BRONX</td>\n",
              "      <td>The Department of Housing Preservation and Dev...</td>\n",
              "      <td>BRONX</td>\n",
              "      <td>40.855583</td>\n",
              "      <td>-73.897879</td>\n",
              "      <td>2020-07-26T17:07:51.000</td>\n",
              "      <td>RESIDENTIAL BUILDING</td>\n",
              "      <td>Closed</td>\n",
              "    </tr>\n",
              "    <tr>\n",
              "      <th>12456</th>\n",
              "      <td>2020-07-19T13:07:31.000</td>\n",
              "      <td>46914996</td>\n",
              "      <td>HEAT/HOT WATER</td>\n",
              "      <td>10458.0</td>\n",
              "      <td>2454 TIEBOUT AVENUE</td>\n",
              "      <td>TIEBOUT AVENUE</td>\n",
              "      <td>ADDRESS</td>\n",
              "      <td>BRONX</td>\n",
              "      <td>The Department of Housing Preservation and Dev...</td>\n",
              "      <td>BRONX</td>\n",
              "      <td>40.860568</td>\n",
              "      <td>-73.895439</td>\n",
              "      <td>2020-07-22T02:02:27.000</td>\n",
              "      <td>RESIDENTIAL BUILDING</td>\n",
              "      <td>Closed</td>\n",
              "    </tr>\n",
              "    <tr>\n",
              "      <th>12533</th>\n",
              "      <td>2020-07-19T14:59:49.000</td>\n",
              "      <td>46913691</td>\n",
              "      <td>HEAT/HOT WATER</td>\n",
              "      <td>10458.0</td>\n",
              "      <td>2454 TIEBOUT AVENUE</td>\n",
              "      <td>TIEBOUT AVENUE</td>\n",
              "      <td>ADDRESS</td>\n",
              "      <td>BRONX</td>\n",
              "      <td>The complaint you filed is a duplicate of a co...</td>\n",
              "      <td>BRONX</td>\n",
              "      <td>40.860568</td>\n",
              "      <td>-73.895439</td>\n",
              "      <td>2020-07-22T02:02:27.000</td>\n",
              "      <td>RESIDENTIAL BUILDING</td>\n",
              "      <td>Closed</td>\n",
              "    </tr>\n",
              "    <tr>\n",
              "      <th>...</th>\n",
              "      <td>...</td>\n",
              "      <td>...</td>\n",
              "      <td>...</td>\n",
              "      <td>...</td>\n",
              "      <td>...</td>\n",
              "      <td>...</td>\n",
              "      <td>...</td>\n",
              "      <td>...</td>\n",
              "      <td>...</td>\n",
              "      <td>...</td>\n",
              "      <td>...</td>\n",
              "      <td>...</td>\n",
              "      <td>...</td>\n",
              "      <td>...</td>\n",
              "      <td>...</td>\n",
              "    </tr>\n",
              "    <tr>\n",
              "      <th>6174469</th>\n",
              "      <td>2019-03-18T18:24:22.000</td>\n",
              "      <td>41990052</td>\n",
              "      <td>HEAT/HOT WATER</td>\n",
              "      <td>10458.0</td>\n",
              "      <td>2483 TIEBOUT AVENUE</td>\n",
              "      <td>TIEBOUT AVENUE</td>\n",
              "      <td>ADDRESS</td>\n",
              "      <td>BRONX</td>\n",
              "      <td>The Department of Housing Preservation and Dev...</td>\n",
              "      <td>BRONX</td>\n",
              "      <td>40.861561</td>\n",
              "      <td>-73.895047</td>\n",
              "      <td>2019-03-20T02:08:48.000</td>\n",
              "      <td>RESIDENTIAL BUILDING</td>\n",
              "      <td>Closed</td>\n",
              "    </tr>\n",
              "    <tr>\n",
              "      <th>6174834</th>\n",
              "      <td>2019-03-19T06:42:01.000</td>\n",
              "      <td>42001409</td>\n",
              "      <td>HEAT/HOT WATER</td>\n",
              "      <td>10457.0</td>\n",
              "      <td>2176 TIEBOUT AVENUE</td>\n",
              "      <td>TIEBOUT AVENUE</td>\n",
              "      <td>ADDRESS</td>\n",
              "      <td>BRONX</td>\n",
              "      <td>The Department of Housing Preservation and Dev...</td>\n",
              "      <td>BRONX</td>\n",
              "      <td>40.854439</td>\n",
              "      <td>-73.898423</td>\n",
              "      <td>2019-03-19T14:13:35.000</td>\n",
              "      <td>RESIDENTIAL BUILDING</td>\n",
              "      <td>Closed</td>\n",
              "    </tr>\n",
              "    <tr>\n",
              "      <th>6175171</th>\n",
              "      <td>2019-03-20T06:27:11.000</td>\n",
              "      <td>42010795</td>\n",
              "      <td>HEAT/HOT WATER</td>\n",
              "      <td>10457.0</td>\n",
              "      <td>2176 TIEBOUT AVENUE</td>\n",
              "      <td>TIEBOUT AVENUE</td>\n",
              "      <td>ADDRESS</td>\n",
              "      <td>BRONX</td>\n",
              "      <td>The complaint you filed is a duplicate of a co...</td>\n",
              "      <td>BRONX</td>\n",
              "      <td>40.854439</td>\n",
              "      <td>-73.898423</td>\n",
              "      <td>2019-03-22T12:57:10.000</td>\n",
              "      <td>RESIDENTIAL BUILDING</td>\n",
              "      <td>Closed</td>\n",
              "    </tr>\n",
              "    <tr>\n",
              "      <th>6176138</th>\n",
              "      <td>2019-03-23T13:30:29.000</td>\n",
              "      <td>42035663</td>\n",
              "      <td>HEAT/HOT WATER</td>\n",
              "      <td>10457.0</td>\n",
              "      <td>2120 TIEBOUT AVENUE</td>\n",
              "      <td>TIEBOUT AVENUE</td>\n",
              "      <td>ADDRESS</td>\n",
              "      <td>BRONX</td>\n",
              "      <td>The complaint you filed is a duplicate of a co...</td>\n",
              "      <td>BRONX</td>\n",
              "      <td>40.853171</td>\n",
              "      <td>-73.898664</td>\n",
              "      <td>2019-03-25T02:07:06.000</td>\n",
              "      <td>RESIDENTIAL BUILDING</td>\n",
              "      <td>Closed</td>\n",
              "    </tr>\n",
              "    <tr>\n",
              "      <th>6176923</th>\n",
              "      <td>2019-03-25T13:26:27.000</td>\n",
              "      <td>42050797</td>\n",
              "      <td>HEAT/HOT WATER</td>\n",
              "      <td>10458.0</td>\n",
              "      <td>2334 TIEBOUT AVENUE</td>\n",
              "      <td>TIEBOUT AVENUE</td>\n",
              "      <td>ADDRESS</td>\n",
              "      <td>BRONX</td>\n",
              "      <td>The Department of Housing Preservation and Dev...</td>\n",
              "      <td>BRONX</td>\n",
              "      <td>40.857459</td>\n",
              "      <td>-73.896745</td>\n",
              "      <td>2019-03-27T15:47:56.000</td>\n",
              "      <td>RESIDENTIAL BUILDING</td>\n",
              "      <td>Closed</td>\n",
              "    </tr>\n",
              "  </tbody>\n",
              "</table>\n",
              "<p>6188 rows × 15 columns</p>\n",
              "</div>"
            ],
            "text/plain": [
              "                    created_date  unique_key  complaint_type  incident_zip  \\\n",
              "3026     2020-07-28T17:03:03.000    47012921  HEAT/HOT WATER       10458.0   \n",
              "3453     2020-07-28T12:20:40.000    47008753  HEAT/HOT WATER       10458.0   \n",
              "8702     2020-07-23T10:52:27.000    46952366  HEAT/HOT WATER       10457.0   \n",
              "12456    2020-07-19T13:07:31.000    46914996  HEAT/HOT WATER       10458.0   \n",
              "12533    2020-07-19T14:59:49.000    46913691  HEAT/HOT WATER       10458.0   \n",
              "...                          ...         ...             ...           ...   \n",
              "6174469  2019-03-18T18:24:22.000    41990052  HEAT/HOT WATER       10458.0   \n",
              "6174834  2019-03-19T06:42:01.000    42001409  HEAT/HOT WATER       10457.0   \n",
              "6175171  2019-03-20T06:27:11.000    42010795  HEAT/HOT WATER       10457.0   \n",
              "6176138  2019-03-23T13:30:29.000    42035663  HEAT/HOT WATER       10457.0   \n",
              "6176923  2019-03-25T13:26:27.000    42050797  HEAT/HOT WATER       10458.0   \n",
              "\n",
              "            incident_address     street_name address_type   city  \\\n",
              "3026     2454 TIEBOUT AVENUE  TIEBOUT AVENUE      ADDRESS  BRONX   \n",
              "3453     2454 TIEBOUT AVENUE  TIEBOUT AVENUE      ADDRESS  BRONX   \n",
              "8702     2240 TIEBOUT AVENUE  TIEBOUT AVENUE      ADDRESS  BRONX   \n",
              "12456    2454 TIEBOUT AVENUE  TIEBOUT AVENUE      ADDRESS  BRONX   \n",
              "12533    2454 TIEBOUT AVENUE  TIEBOUT AVENUE      ADDRESS  BRONX   \n",
              "...                      ...             ...          ...    ...   \n",
              "6174469  2483 TIEBOUT AVENUE  TIEBOUT AVENUE      ADDRESS  BRONX   \n",
              "6174834  2176 TIEBOUT AVENUE  TIEBOUT AVENUE      ADDRESS  BRONX   \n",
              "6175171  2176 TIEBOUT AVENUE  TIEBOUT AVENUE      ADDRESS  BRONX   \n",
              "6176138  2120 TIEBOUT AVENUE  TIEBOUT AVENUE      ADDRESS  BRONX   \n",
              "6176923  2334 TIEBOUT AVENUE  TIEBOUT AVENUE      ADDRESS  BRONX   \n",
              "\n",
              "                                    resolution_description borough   latitude  \\\n",
              "3026     The Department of Housing Preservation and Dev...   BRONX  40.860568   \n",
              "3453     The Department of Housing Preservation and Dev...   BRONX  40.860568   \n",
              "8702     The Department of Housing Preservation and Dev...   BRONX  40.855583   \n",
              "12456    The Department of Housing Preservation and Dev...   BRONX  40.860568   \n",
              "12533    The complaint you filed is a duplicate of a co...   BRONX  40.860568   \n",
              "...                                                    ...     ...        ...   \n",
              "6174469  The Department of Housing Preservation and Dev...   BRONX  40.861561   \n",
              "6174834  The Department of Housing Preservation and Dev...   BRONX  40.854439   \n",
              "6175171  The complaint you filed is a duplicate of a co...   BRONX  40.854439   \n",
              "6176138  The complaint you filed is a duplicate of a co...   BRONX  40.853171   \n",
              "6176923  The Department of Housing Preservation and Dev...   BRONX  40.857459   \n",
              "\n",
              "         longitude              closed_date         location_type  status  \n",
              "3026    -73.895439  2020-07-29T10:36:37.000  RESIDENTIAL BUILDING  Closed  \n",
              "3453    -73.895439  2020-07-29T10:36:37.000  RESIDENTIAL BUILDING  Closed  \n",
              "8702    -73.897879  2020-07-26T17:07:51.000  RESIDENTIAL BUILDING  Closed  \n",
              "12456   -73.895439  2020-07-22T02:02:27.000  RESIDENTIAL BUILDING  Closed  \n",
              "12533   -73.895439  2020-07-22T02:02:27.000  RESIDENTIAL BUILDING  Closed  \n",
              "...            ...                      ...                   ...     ...  \n",
              "6174469 -73.895047  2019-03-20T02:08:48.000  RESIDENTIAL BUILDING  Closed  \n",
              "6174834 -73.898423  2019-03-19T14:13:35.000  RESIDENTIAL BUILDING  Closed  \n",
              "6175171 -73.898423  2019-03-22T12:57:10.000  RESIDENTIAL BUILDING  Closed  \n",
              "6176138 -73.898664  2019-03-25T02:07:06.000  RESIDENTIAL BUILDING  Closed  \n",
              "6176923 -73.896745  2019-03-27T15:47:56.000  RESIDENTIAL BUILDING  Closed  \n",
              "\n",
              "[6188 rows x 15 columns]"
            ]
          },
          "metadata": {
            "tags": []
          },
          "execution_count": 14
        }
      ]
    },
    {
      "cell_type": "markdown",
      "metadata": {
        "id": "MckbYiooKdgX",
        "colab_type": "text"
      },
      "source": [
        "Should the Department of Housing Preservation and Development of New York City focus on any particular set of boroughs, ZIP codes, or street (where the complaints are severe) for the specific type of complaints you identified in response to Question 1?\n",
        "\n",
        "Area to focus lies in Bronx borough, Tiebout Avenue street, Zip code is 10457"
      ]
    },
    {
      "cell_type": "code",
      "metadata": {
        "id": "ZyQqATUCKgtz",
        "colab_type": "code",
        "colab": {}
      },
      "source": [
        ""
      ],
      "execution_count": null,
      "outputs": []
    }
  ]
}